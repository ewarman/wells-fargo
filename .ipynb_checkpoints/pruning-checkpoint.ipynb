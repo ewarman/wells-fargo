{
 "cells": [
  {
   "cell_type": "code",
   "execution_count": null,
   "metadata": {
    "collapsed": true
   },
   "outputs": [],
   "source": [
    "#Parses .txt file to python dictionary\n",
    "import codecs\n",
    "\n",
    "f = codecs.open('data.txt', 'r', encoding='utf-8', errors='ignore')\n",
    "line = f.readline()\n",
    "keys = line.split('|')\n",
    "#remove '/n/r'\n",
    "keys[-1] = keys[-1][:-2]\n",
    "data = []\n",
    "while True:\n",
    "    try:\n",
    "        line = f.readline()\n",
    "        values = line.split('|')\n",
    "        msg = dict(zip(keys,values))\n",
    "        #remove '/n/r'\n",
    "        msg['FullText'] = msg['FullText'][:-2]\n",
    "        data.append(msg.copy())\n",
    "    except KeyError:\n",
    "        break\n",
    "\n",
    "import json\n",
    "with open('wells-fargo-dict.json', 'w') as outfile:\n",
    "    json.dump(data, outfile)"
   ]
  },
  {
   "cell_type": "code",
   "execution_count": 118,
   "metadata": {
    "collapsed": false
   },
   "outputs": [
    {
     "name": "stdout",
     "output_type": "stream",
     "text": [
      "Total messages: 220377\n"
     ]
    }
   ],
   "source": [
    "#read in data\n",
    "import json\n",
    "with open('wells-fargo-dict.json') as data_file:    \n",
    "    data = json.load(data_file)\n",
    "    \n",
    "print('Total messages:', len(data))"
   ]
  },
  {
   "cell_type": "code",
   "execution_count": 119,
   "metadata": {
    "collapsed": false
   },
   "outputs": [
    {
     "name": "stdout",
     "output_type": "stream",
     "text": [
      "Messages Remaining: 206491\n"
     ]
    }
   ],
   "source": [
    "#include only unique messages\n",
    "\n",
    "prune1 = []\n",
    "msgs = set()\n",
    "#go through every msg\n",
    "for item in data:\n",
    "    text = item['FullText']\n",
    "    if text not in msgs:\n",
    "        msgs.add(text)\n",
    "        prune1.append(item)\n",
    "        \n",
    "print('Messages Remaining:', len(prune1))"
   ]
  },
  {
   "cell_type": "code",
   "execution_count": 120,
   "metadata": {
    "collapsed": false
   },
   "outputs": [
    {
     "name": "stdout",
     "output_type": "stream",
     "text": [
      "Messages Remaining: 186498\n"
     ]
    }
   ],
   "source": [
    "#remove all tweets that cannot be attributed to a bank\n",
    "\n",
    "bank_words = ['BankA', 'BankB', 'BankC', 'BankD', '#BankA', '#BankB', '#BankC', '#BankD', 'twit_hndl_BankA', 'twit_hndl_BankB', 'twit_hndl_BankC', 'twit_hndl_BankD']\n",
    "prune2 = []\n",
    "for item in prune1:\n",
    "    if any(word in item['FullText'] for word in bank_words):\n",
    "        prune2.append(item)\n",
    "        print(item['FullText'])\n",
    "\n",
    "print('Messages Remaining:', len(prune2))"
   ]
  },
  {
   "cell_type": "code",
   "execution_count": 121,
   "metadata": {
    "collapsed": false
   },
   "outputs": [
    {
     "name": "stdout",
     "output_type": "stream",
     "text": [
      "Messages Remaining: 183050\n"
     ]
    }
   ],
   "source": [
    "#remove messages of banks responding to customers\n",
    "prune3 = []\n",
    "for item in prune2:\n",
    "    if 'Name_Resp' not in item['FullText']:\n",
    "        prune3.append(item)\n",
    "        \n",
    "print('Messages Remaining:',len(prune3))"
   ]
  },
  {
   "cell_type": "code",
   "execution_count": 122,
   "metadata": {
    "collapsed": false
   },
   "outputs": [
    {
     "name": "stdout",
     "output_type": "stream",
     "text": [
      "Messages Remaining: 182246\n"
     ]
    }
   ],
   "source": [
    "#remove messages from employees and interview candidates\n",
    "interview_words = ['interview', 'interviews', 'got the job', 'hiring at', 'hired']\n",
    "prune4 = []\n",
    "for item in prune3:\n",
    "    if all(word not in item['FullText'] for word in interview_words):\n",
    "        prune4.append(item)\n",
    "print('Messages Remaining:',len(prune4))        "
   ]
  },
  {
   "cell_type": "code",
   "execution_count": 123,
   "metadata": {
    "collapsed": false
   },
   "outputs": [
    {
     "name": "stdout",
     "output_type": "stream",
     "text": [
      "Messages Remaining: 176660\n"
     ]
    }
   ],
   "source": [
    "#remove messages about bank sponsored stadiums and arenas\n",
    "sports_words = ['stadium', 'playoffs', 'arena', 'preseason', 'center for the arts', 'BankA center', 'BankA building', 'game day']\n",
    "prune5 = []\n",
    "for item in prune4:\n",
    "    if all(word not in item['FullText'] for word in sports_words):\n",
    "        prune5.append(item)\n",
    "print('Messages Remaining:',len(prune5))"
   ]
  },
  {
   "cell_type": "code",
   "execution_count": 124,
   "metadata": {
    "collapsed": false
   },
   "outputs": [
    {
     "name": "stdout",
     "output_type": "stream",
     "text": [
      "Messages Remaining: 171054\n"
     ]
    }
   ],
   "source": [
    "#remove spam messages about 'mission main street'\n",
    "prune6 = []\n",
    "for item in prune5:\n",
    "    if 'mission main street' not in item['FullText']:\n",
    "        prune6.append(item)\n",
    "print('Messages Remaining:',len(prune6))"
   ]
  },
  {
   "cell_type": "code",
   "execution_count": 125,
   "metadata": {
    "collapsed": false
   },
   "outputs": [
    {
     "name": "stdout",
     "output_type": "stream",
     "text": [
      "Messages Remaining: 166297\n"
     ]
    }
   ],
   "source": [
    "#remove messages for #getcollegeready contest\n",
    "prune7 = []\n",
    "for item in prune6:\n",
    "    if 'getcollegeready' not in item['FullText']:\n",
    "        prune7.append(item)\n",
    "print('Messages Remaining:',len(prune7))"
   ]
  },
  {
   "cell_type": "code",
   "execution_count": 126,
   "metadata": {
    "collapsed": false
   },
   "outputs": [
    {
     "name": "stdout",
     "output_type": "stream",
     "text": [
      "Percent of tweets remaining after prune: 24.539765946537074\n"
     ]
    }
   ],
   "source": [
    "percent_remaining = 100-(len(prune7)/len(data))*100\n",
    "print('Percent of tweets remaining after prune:', percent_remaining)"
   ]
  },
  {
   "cell_type": "code",
   "execution_count": 127,
   "metadata": {
    "collapsed": false
   },
   "outputs": [],
   "source": [
    "with open('news-classified.json') as file:\n",
    "    labeled_msgs = json.load(file)\n",
    "\n",
    "msgs = []\n",
    "for msg in labeled_msgs:\n",
    "    msgs.append(msg['FullText'])"
   ]
  },
  {
   "cell_type": "code",
   "execution_count": 128,
   "metadata": {
    "collapsed": false
   },
   "outputs": [
    {
     "name": "stdout",
     "output_type": "stream",
     "text": [
      "400\n",
      "read 400 labeled tweets\n",
      "Label distribution=[('not news', 275), ('news', 125)]\n"
     ]
    }
   ],
   "source": [
    "from collections import Counter\n",
    "from sklearn.preprocessing import LabelEncoder\n",
    "\n",
    "with open('news-classified.json') as file:\n",
    "    labeled_msgs = json.load(file)\n",
    "file.close()\n",
    "    \n",
    "with open('news-classified2.json') as file2:\n",
    "    labeled_msgs2 = json.load(file2)\n",
    "file2.close()\n",
    "\n",
    "for msg in labeled_msgs2:\n",
    "    labeled_msgs.append(msg)\n",
    "    \n",
    "print(len(labeled_msgs))\n",
    "    \n",
    "print('read %d labeled tweets' % len(labeled_msgs))\n",
    "\n",
    "label_map = {'n': 'not news', 'y': 'news'}\n",
    "labels = ['news', 'not news']\n",
    "\n",
    "for msg in labeled_msgs:\n",
    "    msg['News'] = label_map[msg['News']]\n",
    "    \n",
    "label_encoder = LabelEncoder()\n",
    "label_encoder.fit(labels)\n",
    "y = label_encoder.transform([msg['News'] for msg in labeled_msgs])             \n",
    "print('Label distribution=%s' % Counter(msg['News'] for msg in labeled_msgs).most_common(2))"
   ]
  },
  {
   "cell_type": "code",
   "execution_count": 129,
   "metadata": {
    "collapsed": true
   },
   "outputs": [],
   "source": [
    "# Tweet tokenizer.\n",
    "import re\n",
    "import string\n",
    "def tokenize(text):\n",
    "    punc_re = '[' + re.escape(string.punctuation) + ']'\n",
    "    text = text.lower()\n",
    "    text = re.sub(r'(.)\\1\\1\\1+', r'\\1', text)\n",
    "    text = re.sub(r'[0-9]', '9', text)\n",
    "    text = re.sub('bank(\\S+)', 'bankabcd', text)\n",
    "    text = re.sub('bank(\\S+)', 'bankabcd', text)\n",
    "    text = re.sub('#bank(\\S+)', '#bankabcd', text)\n",
    "    text = re.sub('twit_hndl_bank(\\S+)', 'twit_hndl_bankabcd', text)\n",
    "    toks = []\n",
    "    for tok in text.split():\n",
    "        tok = re.sub(r'^(' + punc_re + '+)', r'\\1 ', tok)\n",
    "        tok = re.sub(r'(' + punc_re + '+)$', r' \\1', tok)\n",
    "        for subtok in tok.split():\n",
    "            if re.search('\\w', subtok):\n",
    "                toks.append(subtok)\n",
    "    return toks"
   ]
  },
  {
   "cell_type": "code",
   "execution_count": 130,
   "metadata": {
    "collapsed": false
   },
   "outputs": [
    {
     "name": "stdout",
     "output_type": "stream",
     "text": [
      "Vectorized 400 tweets. Found 1366 terms.\n"
     ]
    }
   ],
   "source": [
    "from sklearn.feature_extraction.text import TfidfVectorizer\n",
    "import numpy as np\n",
    "\n",
    "vectorizer = TfidfVectorizer(decode_error='ignore', ngram_range=(1, 2), max_df=1., min_df=2,\n",
    "                             use_idf=True, tokenizer=tokenize, binary=False, norm='l2')\n",
    "X = vectorizer.fit_transform(msg['FullText'] for msg in labeled_msgs)\n",
    "print('Vectorized %d tweets. Found %d terms.' % (X.shape[0], X.shape[1]))\n",
    "features = np.array(vectorizer.get_feature_names())"
   ]
  },
  {
   "cell_type": "code",
   "execution_count": 131,
   "metadata": {
    "collapsed": false
   },
   "outputs": [
    {
     "name": "stdout",
     "output_type": "stream",
     "text": [
      "accuracy=0.83250\n",
      "             precision    recall  f1-score   support\n",
      "\n",
      "       news       0.70      0.82      0.75       125\n",
      "   not news       0.91      0.84      0.87       275\n",
      "\n",
      "avg / total       0.84      0.83      0.84       400\n",
      "\n",
      "            news    not news\n",
      "--------  ------  ----------\n",
      "news         103          22\n",
      "not news      45         230\n",
      "\n",
      "CLASS 0\n",
      "i\t1.702\n",
      "my\t1.396\n",
      "you\t1.181\n",
      "twit_hndl_bankabcd\t1.181\n",
      "and\t0.818\n",
      "\n",
      "CLASS 1\n",
      "internet\t1.738\n",
      "name\t1.633\n",
      "ly\t1.394\n",
      "bankabcd name\t1.231\n",
      "rating\t1.182\n"
     ]
    }
   ],
   "source": [
    "from sklearn.cross_validation import cross_val_score, KFold\n",
    "from sklearn.linear_model import LinearRegression, LogisticRegression\n",
    "from sklearn.metrics import accuracy_score, classification_report, confusion_matrix, precision_recall_curve, precision_recall_fscore_support\n",
    "from tabulate import tabulate\n",
    "\n",
    "def confusion(truths, preds, labels):\n",
    "    m = confusion_matrix(truths, preds)\n",
    "    m = np.vstack((labels, m))\n",
    "    m = np.hstack((np.matrix([''] + list(labels)).T, m))\n",
    "    return tabulate(m.tolist(), headers='firstrow')\n",
    "\n",
    "def top_coef(clf, vocab, n=10):\n",
    "    if len(clf.classes_) == 2:\n",
    "        coefs = [clf.coef_[0], -clf.coef_[0]]\n",
    "    else:\n",
    "        coefs = clf.coef_\n",
    "    for li, label in enumerate(clf.classes_):\n",
    "        print('\\nCLASS %s' % label)\n",
    "        coef = coefs[li]\n",
    "        top_coef_ind = np.argsort(coef)[::-1][:n]\n",
    "        top_coef_terms = vocab[top_coef_ind]\n",
    "        top_coef = coef[top_coef_ind]\n",
    "        print('\\n'.join(['%s\\t%.3f' % (term, weight) for term, weight in zip(top_coef_terms, top_coef)]))\n",
    "\n",
    "def do_cv(X, y, labels, nfolds=10):\n",
    "    cv = KFold(len(y), nfolds, random_state=123456)\n",
    "    preds = []\n",
    "    truths = []\n",
    "    for train, test in cv:\n",
    "        clf = LogisticRegression(class_weight='balanced', solver='liblinear', intercept_scaling=.3)\n",
    "        clf.fit(X[train], y[train])\n",
    "        preds.extend(clf.predict(X[test]))\n",
    "        truths.extend(y[test])\n",
    "    print('accuracy=%.5f' % (accuracy_score(truths, preds)))\n",
    "    print(classification_report(truths, preds, target_names=labels))\n",
    "    print(confusion(truths, preds, labels))\n",
    "    clf = LogisticRegression(class_weight='balanced', solver='liblinear', intercept_scaling=.3)\n",
    "    clf.fit(X, y)\n",
    "    return clf, truths, preds\n",
    "clf, truths, preds = do_cv(X, y, label_encoder.classes_, 10)\n",
    "top_coef(clf, features, 5)"
   ]
  },
  {
   "cell_type": "code",
   "execution_count": 132,
   "metadata": {
    "collapsed": false
   },
   "outputs": [
    {
     "name": "stdout",
     "output_type": "stream",
     "text": [
      "[ 0.05  0.1   0.15  0.2   0.25  0.3   0.35  0.4   0.45  0.5   0.55  0.6\n",
      "  0.65  0.7   0.75  0.8   0.85  0.9   0.95  1.  ]\n",
      "label= news\n",
      "0.05 (0.71739130434782605, 0.79200000000000004, 0.75285171102661608, None)\n",
      "0.1 (0.71739130434782605, 0.79200000000000004, 0.75285171102661608, None)\n",
      "0.15 (0.71739130434782605, 0.79200000000000004, 0.75285171102661608, None)\n",
      "0.2 (0.71739130434782605, 0.79200000000000004, 0.75285171102661608, None)\n",
      "0.25 (0.71739130434782605, 0.79200000000000004, 0.75285171102661608, None)\n",
      "0.3 (0.71739130434782605, 0.79200000000000004, 0.75285171102661608, None)\n",
      "0.35 (0.71739130434782605, 0.79200000000000004, 0.75285171102661608, None)\n",
      "0.4 (0.71739130434782605, 0.79200000000000004, 0.75285171102661608, None)\n",
      "0.45 (0.71739130434782605, 0.79200000000000004, 0.75285171102661608, None)\n",
      "0.5 (0.71739130434782605, 0.79200000000000004, 0.75285171102661608, None)\n",
      "0.55 (0.77477477477477474, 0.68799999999999994, 0.72881355932203395, None)\n",
      "0.6 (0.81052631578947365, 0.61599999999999999, 0.69999999999999996, None)\n",
      "0.65 (0.81944444444444442, 0.47199999999999998, 0.59898477157360397, None)\n",
      "0.7 (0.78723404255319152, 0.29599999999999999, 0.43023255813953487, None)\n",
      "0.75 (0.73333333333333328, 0.17599999999999999, 0.28387096774193549, None)\n",
      "0.8 (0.7142857142857143, 0.080000000000000002, 0.14388489208633096, None)\n",
      "0.85 (0.66666666666666663, 0.016, 0.03125, None)\n",
      "0.9 (0.0, 0.0, 0.0, None)\n",
      "0.95 (0.0, 0.0, 0.0, None)\n",
      "1.0 (0.0, 0.0, 0.0, None)\n",
      "label= not news\n",
      "0.05 (0.9007633587786259, 0.85818181818181816, 0.87895716945996272, None)\n",
      "0.1 (0.9007633587786259, 0.85818181818181816, 0.87895716945996272, None)\n",
      "0.15 (0.9007633587786259, 0.85818181818181816, 0.87895716945996272, None)\n",
      "0.2 (0.9007633587786259, 0.85818181818181816, 0.87895716945996272, None)\n",
      "0.25 (0.9007633587786259, 0.85818181818181816, 0.87895716945996272, None)\n",
      "0.3 (0.9007633587786259, 0.85818181818181816, 0.87895716945996272, None)\n",
      "0.35 (0.9007633587786259, 0.85818181818181816, 0.87895716945996272, None)\n",
      "0.4 (0.9007633587786259, 0.85818181818181816, 0.87895716945996272, None)\n",
      "0.45 (0.9007633587786259, 0.85818181818181816, 0.87895716945996272, None)\n",
      "0.5 (0.9007633587786259, 0.85818181818181816, 0.87895716945996272, None)\n",
      "0.55 (0.91983122362869196, 0.79272727272727272, 0.85156249999999989, None)\n",
      "0.6 (0.97156398104265407, 0.74545454545454548, 0.84362139917695478, None)\n",
      "0.65 (0.9887640449438202, 0.64000000000000001, 0.77704194260485648, None)\n",
      "0.7 (0.99259259259259258, 0.48727272727272725, 0.65365853658536588, None)\n",
      "0.75 (1.0, 0.33454545454545453, 0.50136239782016345, None)\n",
      "0.8 (1.0, 0.15636363636363637, 0.27044025157232709, None)\n",
      "0.85 (1.0, 0.02181818181818182, 0.042704626334519581, None)\n",
      "0.9 (0.0, 0.0, 0.0, None)\n",
      "0.95 (0.0, 0.0, 0.0, None)\n",
      "1.0 (0.0, 0.0, 0.0, None)\n",
      "accuracy=0.838\n",
      "             precision    recall  f1-score   support\n",
      "\n",
      "       news       0.72      0.79      0.75       125\n",
      "   not news       0.90      0.86      0.88       275\n",
      "\n",
      "avg / total       0.84      0.84      0.84       400\n",
      "\n",
      "            news    not news\n",
      "--------  ------  ----------\n",
      "news          99          26\n",
      "not news      39         236\n"
     ]
    },
    {
     "name": "stderr",
     "output_type": "stream",
     "text": [
      "/usr/lib64/python3.4/site-packages/sklearn/metrics/classification.py:1074: UndefinedMetricWarning: Precision and F-score are ill-defined and being set to 0.0 due to no predicted samples.\n",
      "  'precision', 'predicted', average, warn_for)\n"
     ]
    }
   ],
   "source": [
    "def do_cv_thresh(X, y, labels, thresh=.5, nfolds=10):\n",
    "    cv = KFold(len(y), nfolds, random_state=123456)\n",
    "    preds = []\n",
    "    truths = []\n",
    "    probas = []\n",
    "    for train, test in cv:\n",
    "        clf = LogisticRegression(class_weight='balanced')\n",
    "        clf.fit(X[train], y[train])\n",
    "        proba = clf.predict_proba(X[test])\n",
    "        if len(probas) == 0:\n",
    "            probas = proba\n",
    "        else:\n",
    "            probas = np.vstack((probas, proba))\n",
    "        preds.extend(clf.predict(X[test]))\n",
    "        truths.extend(y[test])\n",
    "                       \n",
    "    # Now deterime best threshold for each class to maximize F1.\n",
    "    thresholds = np.arange(1,21) * .05\n",
    "    print(thresholds)\n",
    "    for i, l in enumerate(labels):\n",
    "        print('label=', l)\n",
    "        for thresh in thresholds:\n",
    "            newpreds = [1 if l2==i and probas[j][i] >= thresh else 0 for j, l2 in enumerate(preds)]\n",
    "            newtruths = [1 if t==i else 0 for t in truths]\n",
    "            #print Counter(newpreds)\n",
    "            print(thresh, precision_recall_fscore_support(newtruths, newpreds, average='binary'))\n",
    "    print('accuracy=%.3f' % (accuracy_score(truths, preds)))\n",
    "    print(classification_report(truths, preds, target_names=labels))\n",
    "    print(confusion(truths, preds, labels))\n",
    "    clf = LogisticRegression(class_weight='balanced')\n",
    "    clf.fit(X, y)\n",
    "    return clf, truths, preds\n",
    "\n",
    "clf, truths, preds = do_cv_thresh(X, y, label_encoder.classes_, .1, 10)"
   ]
  },
  {
   "cell_type": "code",
   "execution_count": 133,
   "metadata": {
    "collapsed": true
   },
   "outputs": [],
   "source": [
    "final_prune = prune7\n",
    "X_raw = vectorizer.transform(msg['FullText'] for msg in final_prune)"
   ]
  },
  {
   "cell_type": "code",
   "execution_count": 115,
   "metadata": {
    "collapsed": false
   },
   "outputs": [
    {
     "name": "stdout",
     "output_type": "stream",
     "text": [
      "label distribution on messages: [(1, 99402), (0, 67186)]\n",
      "1 is news, 0 is not news\n"
     ]
    }
   ],
   "source": [
    "# Relabel all unlabeled tweets.\n",
    "probas_raw = clf.predict_proba(X_raw)\n",
    "preds_raw = clf.predict(X_raw)\n",
    "\n",
    "print('label distribution on messages: %s' % Counter(preds_raw).most_common(2))\n",
    "print('1 is news, 0 is not news')\n",
    "for msg, pred in zip(final_prune, preds_raw):\n",
    "    msg['News'] = labels[pred]"
   ]
  },
  {
   "cell_type": "code",
   "execution_count": 117,
   "metadata": {
    "collapsed": false
   },
   "outputs": [
    {
     "name": "stdout",
     "output_type": "stream",
     "text": [
      ". twit_hndl_BankB twit_hndl joins twit_hndl: ow. ly/ qvyws- Name bank will offer execution and clearing services\n",
      ". twit_hndl_BankB_community set Name to finance preservation Name of 1,400 public housing units units under Name. f. rad plan bit. ly/ 1uqxzry\n",
      ". twit_hndl says Name Name note on BankB is the finest trolling its seen on a research note: ow. ly/ rcior\n",
      ". twit_hndl_BankC and BankD  Name embrace new Name service INTERNET \n",
      ". twit_hndl_BankC dangles us$ 100k carrot at Name developers bit. ly/ 1gzm8t5 INTERNET\n",
      ". twit_hndl_BankC strikes$ 180m settlement with Name over allegedly misleading marketing for two hedge funds ow. ly/ r333l\n",
      ". twit_hndl stresses the importance of community, leaders & business partnerships# beattheheat twit_hndl twit_hndl_BankD INTERNET\n",
      ". twit_hndl chooses twit_hndl_BankC for custody: ow. ly/ qvyvq- representing assets of$ 29.1 billion\n",
      ". twit_hndl hires former BankA Name cto as Name of tech product development. twit_hndl has details bit. ly/ 1njkkqe\n",
      ". twit_hndl twit_hndl twit_hndl it says BankB Name nuts you pro life wing nut. time to delete your account INTERNET\n",
      ". twit_hndl snaps up twit_hndl_BankC alternative investment for$ 425m: ow. ly/ r56hg- to increase presence in global fund admin admin space\n",
      ". twit_hndl, twit_hndl_BankA survey says americans still wary of economy, impacting investment, spending choices. bit. ly/ 1m0kpij\n",
      ". twit_hndl_BankA enhances floor plan platform with twit_hndl# dealers# inventory ow. ly/ qxe9c\n",
      ". twit_hndl_BankA insurance brokers win business insurance magazine Name business insurance magazine 40 under 40 broker awards twit_hndl via twit_hndl INTERNET \n",
      ". Name bank roll??, dont BankD hoes?? too many fishes in that sea?? Name??\n",
      ". wants a Name office manager(1871_24875397)in BankD city, Name: bit. ly/ 1hlkvwq\n",
      "... and Name why Name mine will not proceed according to ex-BankC analyst INTERNET  via twit_hndl\n",
      "... blinky blinky blink... lexxx @ BankB BankB INTERNET/\n",
      "... up Name.. cursing BankD BankD bank Name.. too Name too be Name but Name Name.. add it Name Name series of unfortunate events..\n",
      "... wow...? BankB will pay a record amount of money to settle with the united states department of justice of Name.\n",
      ".... Name boomed on... i want to propose f u get some.... Name Name Name new Name yankees new Name Name new Name Name true religion brand Name Name & Name. 1800# Name Name# green(thats my baby )# no fighting babe i love you## yes# lol# son# hammer# beyonc # 7 year theory# BankD and capitol one bank card.... Name Name.... for 799 million dollars..... Name my wife.......... gucci shoes Name.... lets play for 15 million today if nobody wants to get the deal through.... and kobe has to play for 7 more years.... 100 Name Name.... still no response.... whats hove doing.... rolls-royce motor cars then motor Name Name go to my room... only because i have to live to let it live again.... movies.... tiffany & Name.\n",
      "....... yeah Name have to go by chinatown afterwork. need to hit BankB Name\n",
      "... congrats rizza ostaya Name Name.. just heard d news BankD  Name kna dw work nxt wik..??? nglevel up kna gudman.. pan. international na.. see yah...\n",
      "... credit Name... satin alindi Name... Name Name... satin alindi Name... BankB corporation... satin alindi Name...\n",
      "... goldir_msgan sachs Name# Name. home depot depot# Name. intel# intc. ibm# ibm. Name & Name# Name. BankD  BankD# BankD . Name# Name. Name# Name...\n",
      "... home depot depot# Name Name# intc ibm# ibm Name & Name# Name BankD  BankD# BankD m mcdonalds Name# mcd merck Name# mrk microsoft Name# Name Name# Name...\n",
      "... home depot depot# Name. intel# intc. ibm# ibm. Name & Name# jnj BankD  BankD BankD  BankD# BankD m mcdonalds Name# mcd merck Name# mrk microsoft Name# msft nike Name# Name...\n",
      "... ibm# ibm. Name & Name# Name. BankD  BankD BankD# BankD . Name# Name. Name# Name. microsoft# msft. Name# Name. pfizer# Name...\n",
      "... no mejor as ! classic abbott Name and Name. have badge Name BankD 8mm silent film from Name Name. Name film transfer system. high quality direct digital frame by fram...\n",
      "... Name/ scotland central... uydu proje i Name Name  in Name Name... Name Name Name stirling bu proje kapsaminda Name Name... 33   nemli firma merkez ve yakinda Name Name Name Name... Name t lock. Name la Name. louis Name. Name. kensington. labrador. napapijri. anapurna. Name/ cork. Name/ new Name. Name. Name. Name. Name. Name Name. bristol cars 2019 years. pizza hut. Name. douwe egberet_twits.the howdah tea tea & coffee Name. Name. Name television. bang & Name. natuzzi. mechanics bank bank. castle rock rock water Name. gorenje. credit Name. commerzbank ag Name. BankB corporation. c. a. Name and company. caribou coffee company. Name van Name Name. timothy s coffees Name coffees of the world Name. Name Name chocolate. interscope records records shop. ag barr Name 1875 Name. harkila. bruar. glenmuir. Name Name watches. Name watches. tag heuer Name. Name Name. chevignon. loake shoemakers. Name Name 1874. Name of ireland. pampeano. vivella 1784. tim horet_twitons inc Name Name 1964. caterpillar shoe. Name Name. Name chocolate. kar s s nuts. Name. corneliani. strellson. Name. d & g. paco rabanne Name. Name. scotch & soda. Name & marshall. timberland ve avm Name Name yapilacaktir bu avm de Name Name 112 scientology Name nu Name eden ma aza bulunacaktir... 33 +112...\n",
      "... we salute you BankC! music video by Name/ dc performing for Name about Name rock(Name salute Name ).(Name at Name Name 2009 )(c)2011 leidseplein presse b.v. Name b. Name.\n",
      ".. Name Name story... BankA, Name barriers warriors join forces with Name brown band: BankA.. bit. ly/ 1nqxhp0... csrwire...\n",
      ". aandriotis twit_hndl_BankD twit_hndl_BankA BankA make it easier to get# jumbo mortgages INTERNET. twit_hndl mapped them bit. ly/ 1hxjcfj\n",
      ". aarp twit_hndl_BankC twit_hndl twit_hndl twit_hndl at# connectedhealthsummit15 INTERNET INTERNET\n",
      ". alfrededmondjr giving keynote at twit_hndl# smallbusinessmatters summit twit_hndl_BankA twit_hndl twit_hndl INTERNET\n",
      ". ambestco and twit_hndl_BankD are among ratings firms weighing in on twit_hndl decision to not sell its life/ annuity biz bit bit. ly/ 1p91yje\n",
      ". americaspromise & twit_hndl_BankC Name announce 12# youthoppfund community partners community Name! buff. ly/ 1jrjygq# pathways2progress\n",
      ". americaspromise & twit_hndl_BankC Name want to help connect youth to job opportunities. bit. ly/ 1ju2sds# youthoppfund# pathways2progress\n",
      ". americaspromise & twit_hndl_BankC fdns# youthoppfund will impact 3,800 low-income# youth in 10 BankCes. buff. ly/ 1pvczg6# pathways2progress\n",
      ". Name- Name BankB twit_hndl_BankB twit_hndl funding# plannedparenthood, twit_hndl# christiansunite# defundpp# ppsellsbabyparts\n",
      ". Name report on latest twit_hndl_BankA twit_hndl# smallbiz index index: small business Name optimism Name along INTERNET  twit_hndl\n",
      ". appleinsider: BankA upgrades Name stock to outperform, says recent correction is an overreaction ainsdr. co/ bymh9s/ s/ rqtw\n",
      ". aratirandolphBankA has led BankAs brand journalism efforts by launching INTERNET.# raganchat\n",
      ". asus BankA BankA Name is electric! incoming freshmen cant stop cheering the Name devil Name! INTERNET\n",
      ". atlhlds mayor Name praised lance hubeny Name for his twit_hndl_BankA award. via twit_hndl. bit. ly/ 1hcogmv INTERNET\n",
      ". austin_police seek robbery suspect that got away with an unknown sum of$ from BankA. bit. ly/ 1tuxd4g INTERNET\n",
      ". Name Name$ 139m Name Name &$ 200m Name Name Name by twit_hndl_BankD INTERNET  via twit_hndl\n",
      ". Name Name$ 139m asset-BankB ed securitization Name &$ 200m Name Name Name by twit_hndl_BankD INTERNET  via twit_hndl\n",
      ". balajis had they used INTERNET, BankD  Name might have saved few billion dollars INTERNET  INTERNET\n",
      ". twit_hndl_BankB + twit_hndl provide$ 370m loan to minskoff to refinance 400k sf 51 Name place# office ow. ly/ qzzvw twit_hndl\n",
      ". twit_hndl_BankB Name summer# youth with employment opportunities Name via twit_hndl bit. ly/ 1mb5nq6# expandedlearning\n",
      ". twit_hndl_BankB cto Name# Name Name, security ow. ly/ qubjc twit_hndl INTERNET\n",
      ". twit_hndl_BankB illustrates investment themes with maps: people, earth, innovation, government, markets. bit. ly/ 1hod8rn\n",
      ". twit_hndl_BankB is gaining control of conversation about its brand. ad recall is up,(bad)press recall down bit. ly/ 1iel81g twit_hndl\n",
      ". twit_hndl_BankB is pulling wealthy clients money from billionaire paulsons hedge fund fund: bit. ly/ 1mpnBankCx\n",
      ". twit_hndl_BankB millennial marketing marketing pays off Name Name bit. ly/ 1njlebe via twit_hndl INTERNET\n",
      ". twit_hndl_BankB planning to lend$ 770 million to protect# affordablehousing in Name. hubs. ly/ h0114l50 INTERNET\n",
      ". twit_hndl_BankB pulls clients money from Name Name fund: bit. ly/ 1mpnBankCx\n",
      ". twit_hndl_BankB Name Name = > twit_hndl calls out a# corpgov sleight of hand INTERNET c twit_hndl twit_hndl\n",
      ". twit_hndl_BankB thank you4 twit_hndl Name Name frm vienna s imperialcollections.# thedeathofcleopatra INTERNET\n",
      ". bankunited taps taps# BankB banker to lead west coast retail banking in# tampa bizj. us/ 1iss1q via twit_hndl\n",
      ". bipinsahni, driver of financial technology innovations twit_hndl_BankA, tops Name list twit_hndl shar. es/ 1t8qyu\n",
      ". bipinsahni, who moves financial tech innovations forward twit_hndl_BankA, tops Name list twit_hndl shar. es/ 1t8qyu\n",
      ". twit_hndl_BankB_community + twit_hndl finance restoration of 1400 units of public housing in Name bit. ly/ 1nxnwpg twit_hndl# rad twit_hndl\n",
      ". twit_hndl_BankB Name Name# environmental# Name Name to$ 125b by 2025 sbshare. co/ 1vltgcr\n",
      ". twit_hndl_BankB_community grants money to 40 nonprofits, including twit_hndl, to focus on# workforce &# education. ow. ly/ qtsnz\n",
      ". twit_hndl_BankB_news BankB BankB announces industry-leading$ 125 Name environmental business initiative bit. ly/ 1ktevv8\n",
      ". twit_hndl_BankB_news environmental business initiative to$ 125b by 2025 ow. ly/ qlkvg via twit_hndl# ecosystem\n",
      ". business reported that twit_hndl_BankB resigned as agent for arch coal coal s lenders ow. ly/ qqgal\n",
      ". business reports twit_hndl_BankD & its lawyers are being sued by one of the participants in the$ 1.5 Name loan BankD  made to Name. ow. ly/ qta5l\n",
      ". business says that twit_hndl_BankA has emerged as a front-runner for Name railcar unit. ow. ly/ rudvl\n",
      ". businsmagazine names 2 twit_hndl_BankA insurance leaders to its 40 under 40 broker Name list: bit. ly/ 1pnzjy7 INTERNET\n",
      ". BankCitweets twit_hndl but BankC says failure to slow Name will cost global gdp Name$ 44 tn by 2060 twit_hndl INTERNET \n",
      ". BankCjburns with details on twit_hndl_BankA s music man: bit. ly/ 1iwglfe INTERNET\n",
      ". twit_hndl_BankD had the highest ad recall of any us bank in Name, and in three of the four prior quarters, per new twit_hndl data bit. ly/ 1iel81g\n",
      ". twit_hndl_BankD: j. p. Name loosens terms for jumbo mortgages, via the Name street journal: bit. ly/ 1m7j07x\n",
      ". chplibrary receives# BankA  community connections grant# smallishuge INTERNET \n",
      ". twit_hndl_BankC  s Name Name takes on global custody role# securitieslendingtimes# agencylending INTERNET \n",
      ". twit_hndl_BankC twit_hndl twit_hndl twit_hndl twit_hndl lets help close the gender gap INTERNET  INTERNET\n",
      ". twit_hndl_BankC and twit_hndl enter into exclusive# creditcard relationship a. walla. by/ 1oxcphz via twit_hndl INTERNET\n",
      ". twit_hndl_BankC categorizes twit_hndl as record store but twit_hndl as bookstore. wonder why Name: twit_hndl twit_hndl INTERNET\n",
      ". twit_hndl_BankC discloses gov probe into its student loan servicing servicing practices. huffpost on july 22: INTERNET ? INTERNET\n",
      ". twit_hndl_BankC Name & twit_hndl announce 12# youthoppfund community partners community Name! bit. ly/ 1kaj6m2# pathways2progress INTERNET\n",
      ". twit_hndl_BankC foundation twit_hndl award$ 3 Name for youth# education# philanthropy ow. ly/ rtwmz\n",
      ". twit_hndl_BankC foundation, twit_hndl award$ 3 million for# youth ow. ly/ rryjg INTERNET\n",
      ". twit_hndl_BankC Name, Name darwinism Name: why a low carbon future doesnt have to cost the earth INTERNET  twit_hndl\n",
      ". twit_hndl_BankC group pledges another$ 50b to finance# climateaction, shows that inaction is too costly bit. ly/ 1jjlhdq INTERNET\n",
      ". twit_hndl_BankC in$ 13.5 Name settlement over defunct Name# hedgefund INTERNET  < twit_hndl# BankC\n",
      ". twit_hndl_BankC is committed to finding innovative ways innovative ways to# finance projects that lead to sustainable growth# sri INTERNET via twit_hndl\n",
      ". twit_hndl_BankC is one of the top 10 corporate philanthropists in the# bayarea: bit. ly/ 1flkgte# Name# sf INTERNET\n",
      ". twit_hndl_BankC is under investigation over its student# loan servicing practices: bloom. bg/ 1g0e3bi via twit_hndl\n",
      ". twit_hndl_BankC on twit_hndl: cut fy16-17 ebitda Name Name by 13 % on lower pricing trends.\n",
      ". twit_hndl_BankC on Name banks: remain overweight banks, twit_hndl remains top pick.\n",
      ". twit_hndl_BankC released report on economics of low carbon future. great to understand stranded assets INTERNET  INTERNET\n",
      ". twit_hndl_BankC report: slowing global warming would save tens of trillions of dollars twit_hndl INTERNET\n",
      ". twit_hndl_BankC rolls out# innovation challenge twit_hndl bit. ly/ 1ghp0zi\n",
      ". twit_hndl_BankC says# coal mining sector running out of time bit. ly/ 1fp5ahv\n",
      ". twit_hndl_BankC says global coal industry is set for further pain. why? twit_hndl ow. ly/ rmdv0# cleanenergy INTERNET\n",
      ". twit_hndl_BankC settles$ 15 million penalty Name# Name over compliance, surveillance Name twit_hndl + twit_hndl INTERNET \n",
      ". twit_hndl_BankC study on whether acting aggressively to avert climate change is  worth it . spoiler: yes ow. ly/ 2buidd Name twit_hndl\n",
      ". twit_hndl_BankC takes its environmental impact into account while finding innovative ways to# finance sustainable growth# sri INTERNET via twit_hndl\n",
      ". twit_hndl_BankC to pay$ 15m penalty for Name Name Name# spotnews twit_hndl INTERNET \n",
      ". twit_hndl_BankC to pay$ 180m to settle muni-related hedge fund charges fund Name: bit. ly/ 1trwwnr\n",
      ". twit_hndl_BankC to settle hedge fund fraud lawsuit for$ 13.5 Name: bit. ly/ 1mofpko\n",
      ". twit_hndl_BankC: Name response to declining demand  best described as optimistic and hopeful  INTERNET \n",
      ". twit_hndl_BankC energy darwinism ii darwinism Name: solar, wind, thermal investment up, coal and gas biggest losers: goo. gl/ duk2gk INTERNET\n",
      ". twit_hndl_BankC Name cost of not acting on climate change is$ 44 trillion INTERNET  via twit_hndl\n",
      ". twit_hndl_BankC s 122- page analysis: investing in low-carbon economy is less expensive than business as usual. twit_hndl twit_hndl INTERNET \n",
      ". twit_hndl_BankC s christine dilandro Name defines effective marketing in 1 sentence on the# effieblog: ow. ly/ rjiig twit_hndl\n",
      ". twit_hndl_BankC s Name Name talks commitment to dc w/ twit_hndl, twit_hndl & twit_hndl# BankCopenpromo INTERNET\n",
      ". twit_hndl_BankC  s# jerusalem challenge offers  gateway  to# startups: bit. ly/ 1nrf7aw\n",
      ". twit_hndl_BankC upbeat on# economy and# investment prospects in# bangladesh with significant progress in major indicators bit. ly/ 1fvzrty\n",
      ". twit_hndl_BankC & twit_hndl launch indias first global e-wallet.# masterpass# Name bit. ly/ 1m7wil1 via twit_hndl\n",
      ". twit_hndl_BankC bank analyst:# renewableenergy will grow 65 % globaly by 2020 via twit_hndl bit. ly/ 1njzhbi# cleantech INTERNET\n",
      ". twit_hndl_BankC and twit_hndl launch digital wallet buff buff. ly/ 1e9xuzz# payments# fintech INTERNET\n",
      ". twit_hndl_BankC brings# Name to honduras, making it the newest leed earth winner winner# sustainability# Name twit_hndl bit. ly/ 1eerkup\n",
      ". twit_hndl_BankC brings 1st# Name bldg to# honduras: sweeps gold and picks up# Name win! twit_hndl... INTERNET via twit_hndl\n",
      ". twit_hndl_BankC concludes low# carbon investment inaction inaction will cost$ 72 trillion by 2060 sco. lt/ 8vfgqb via twit_hndl twit_hndl\n",
      ". twit_hndl_BankC investigated over its student loan services INTERNET INTERNET\n",
      ". twit_hndl_BankC releases report why low carbon future Name  t Name to Name the earth. check it out! INTERNET  INTERNET\n",
      ". twit_hndl_BankC releases report Name low carbon future Name  t Name to Name the earth. check it out! INTERNET  INTERNET\n",
      ". twit_hndl_BankC report: slowing global warming will save tens of trillions of dollars. ow. ly/ rauz7# wemeanit\n",
      ". twit_hndl_BankC u misled me & Name want court order to verify your own?? recording? rebanke? twit_hndl twit_hndl twit_hndl twit_hndl twit_hndl INTERNET\n",
      ". cnnashleigh; lets Name: the BankA wagon INTERNET  .\n",
      ". colliersheriff: beware of BankB phishing robocalls. bit. ly/ 1mzpywa\n",
      ". Name new setting: BankA INTERNET\n",
      ". Name picket at twit_hndl moves to twit_hndl_BankB# saveourschools INTERNET\n",
      ". cw_northmarq was recently awarded all leasing for BankA place in st. paul. Name, minn.. bit. ly/ 1mguvii INTERNET\n",
      ". deBankC ankcovuk twit_hndl: twit_hndl_BankC bank report: investment in renewables & efficiency saves   as cf than biz as usual INTERNET \n",
      ". deBankC ankcovuk twit_hndl: twit_hndl_BankC bank report: investing in renewables & energyefficiency saves$  as cf biz as usual INTERNET \n",
      ". diversityinc talks to twit_hndl_BankA Name Name about how to hire & empower people with disabilities. bit. ly/ 1is4err\n",
      ". fastft: BankC snaps up two senior Name bankers INTERNET\n",
      ". fastft: BankD: italian equities are pick of the bunch INTERNET\n",
      ". Name searching for# doral twit_hndl_BankC robber bit. ly/ 1jhpr13 INTERNET\n",
      ". fidelity may drop banke & BankB as# creditcard partners a. walla. by/ 1k4ltg8 via twit_hndl# news INTERNET\n",
      ". fieldmarshalwh2 twit_hndl twit_hndl twit_hndl BankD  Name BankD jews INTERNET \n",
      ". flgovscott at twit_hndl_BankC with Name service director Name Name and managing director director Name Name.# ilovejax INTERNET\n",
      ". Name oil near 5- month low ow. ly/ qtz6u twit_hndl twit_hndl_BankD twit_hndl\n",
      ". foxbusiness Name are investors putting their money in this market? ow. ly/ rasfk twit_hndl twit_hndl_BankD twit_hndl...\n",
      ". fwd tribe: Name short list of# fintechies to watch: twit_hndl of twit_hndl_BankA shar. es/ 1tejds\n",
      ". genpact_ltd makes strides servicing the uk financial sector with the acquisition of twit_hndl_BankC s openwealth platform platform ow. ly/ r8uqb\n",
      ". genrayodierno joins twit_hndl_BankD as senior adviser to ceo Name Name on planning, risk analysis, operations and cyber security\n",
      ". gonzagau_sba# Name grad Name Name to lead BankB sales in western us bit. ly/ 1htzhzp# gu_success INTERNET\n",
      ". henrykrinkie Name twit_hndl fight for BankD  Name to foreclose on irive love love? INTERNET  and her? INTERNET \n",
      ". ii_alphas twit_hndl takes a deep dive into the private equity investments investments of BankD colemans tiger global Name Name. ow. ly/ qsl7b\n",
      ". iimag daily: thai Name hits 6- year low, down to 35.65 vs. the Name; BankC to pay$ 180m over hedge fund marketing ow. ly/ r376d\n",
      ". inscopemedical twit_hndl hosted at BankD bank by Name Name. INTERNET\n",
      ". jandehn writes on the new index changes proposed by BankD  Name for twit_hndls weekly research bulletin: ow. ly/ qq6xb\n",
      ". jenniferehlen prosper institute institute! twit_hndl twit_hndl named ceo &$ s from twit_hndl twit_hndl_BankD INTERNET  you go girl!\n",
      ". jimcramer: Name alto networks is BankDs Name bet for cybersecurity dlvr. it/ blcdBankC\n",
      ". joelaschbrenner artfully moderates# realeconomy# desmoines forum hosted by twit_hndl_BankA, twit_hndl & twit_hndl. INTERNET\n",
      ". twit_hndl_BankD twit_hndl twit_hndl join forces with twit_hndl to create# referencedata consortium- Name INTERNET\n",
      ". twit_hndl_BankD Name: Name u. s. fed raises rates, it will provide reassurance to markets\n",
      ". twit_hndl_BankD announces asia pacific ceo with funds chief doubling up in new role- bit. ly/ 1iowhwi\n"
     ]
    }
   ],
   "source": [
    "#read some news tweets\n",
    "for msg in final_prune[300:900]:\n",
    "    if msg['News'] is 'news':\n",
    "        print(msg['FullText'])"
   ]
  },
  {
   "cell_type": "code",
   "execution_count": 95,
   "metadata": {
    "collapsed": false
   },
   "outputs": [],
   "source": [
    "#write all of the non news tweets to a file\n",
    "user_tweets = []\n",
    "for msg in final_prune:\n",
    "    if msg['News']  is not 'news':\n",
    "        user_tweets.append(msg)\n",
    "        \n",
    "#write to file\n",
    "with open('user-tweets.json', 'w') as file:\n",
    "    json.dump(user_tweets, file)  "
   ]
  },
  {
   "cell_type": "code",
   "execution_count": null,
   "metadata": {
    "collapsed": true
   },
   "outputs": [],
   "source": [
    "#only want tweets with sentiment"
   ]
  }
 ],
 "metadata": {
  "kernelspec": {
   "display_name": "Python 3",
   "language": "python",
   "name": "python3"
  },
  "language_info": {
   "codemirror_mode": {
    "name": "ipython",
    "version": 3
   },
   "file_extension": ".py",
   "mimetype": "text/x-python",
   "name": "python",
   "nbconvert_exporter": "python",
   "pygments_lexer": "ipython3",
   "version": "3.4.3"
  }
 },
 "nbformat": 4,
 "nbformat_minor": 0
}
